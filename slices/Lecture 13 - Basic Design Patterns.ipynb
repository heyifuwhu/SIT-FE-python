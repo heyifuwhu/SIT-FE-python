{
 "cells": [
  {
   "cell_type": "markdown",
   "metadata": {},
   "source": [
    "## What is Design Pattern?\n",
    " - In software engineering, a software design pattern is a general, reusable solution to a commonly occurring problem within a given context in software design.\n",
    " - Design patterns are generally language-independent (languages supporting object-oriented programming \\[OOP\\]), and some patterns have been implemented and been a part of Python syntax (iterator).\n",
    " - Four categories of design patterns:\n",
    "     - Creational patterns\n",
    "     - Structural patterns\n",
    "     - Behavioral patterns\n",
    "     - Concurrency patterns\n",
    " - Today we introduce four basic common patterns:\n",
    "     - Decorator (Structural)\n",
    "     - Adapter (Structural)\n",
    "     - Observer (Behavioral)\n",
    "     - Factory Mode (Creational)\n"
   ]
  },
  {
   "cell_type": "markdown",
   "metadata": {},
   "source": [
    "## Decorator\n",
    " - Decorator pattern is a design pattern that allows behavior to be added to an individual object, dynamically, without affecting the behavior of other objects from the same class.\n",
    " - Example: You have already created a bunch of functions, now you want to add a timer to each of them. Brute way is modify each function. A smart way is to use decorator."
   ]
  },
  {
   "cell_type": "code",
   "execution_count": 1,
   "metadata": {},
   "outputs": [
    {
     "name": "stdout",
     "output_type": "stream",
     "text": [
      "Wait: 0\n",
      "Wait: 1\n",
      "Wait: 2\n"
     ]
    },
    {
     "data": {
      "text/plain": [
       "4"
      ]
     },
     "execution_count": 1,
     "metadata": {},
     "output_type": "execute_result"
    }
   ],
   "source": [
    "import time\n",
    "\n",
    "def myfun1(n):\n",
    "    for i in range(n):\n",
    "        time.sleep(1)\n",
    "        print(f'Wait: {i}')\n",
    "    return n+1\n",
    "\n",
    "myfun1(3)"
   ]
  },
  {
   "cell_type": "code",
   "execution_count": 2,
   "metadata": {},
   "outputs": [
    {
     "name": "stdout",
     "output_type": "stream",
     "text": [
      "Wait: 0\n",
      "Wait: 1\n",
      "Wait: 2\n",
      "Time consumption 3.007308006286621\n"
     ]
    },
    {
     "data": {
      "text/plain": [
       "4"
      ]
     },
     "execution_count": 2,
     "metadata": {},
     "output_type": "execute_result"
    }
   ],
   "source": [
    "# Brute way:\n",
    "def myfun1(n):\n",
    "    start_time = time.time()\n",
    "    \n",
    "    for i in range(n):\n",
    "        time.sleep(1)\n",
    "        print(f'Wait: {i}')  \n",
    "        \n",
    "    print(f'Time consumption {time.time()-start_time}')\n",
    "    \n",
    "    return n+1\n",
    "    \n",
    "myfun1(3)"
   ]
  },
  {
   "cell_type": "code",
   "execution_count": 3,
   "metadata": {},
   "outputs": [
    {
     "name": "stdout",
     "output_type": "stream",
     "text": [
      "Wait: 0\n",
      "Wait: 1\n",
      "Wait: 2\n",
      "Time consumption 3.0123860836029053\n"
     ]
    },
    {
     "data": {
      "text/plain": [
       "4"
      ]
     },
     "execution_count": 3,
     "metadata": {},
     "output_type": "execute_result"
    }
   ],
   "source": [
    "# Another way\n",
    "import time\n",
    "\n",
    "def myfun1(n):\n",
    "    for i in range(n):\n",
    "        time.sleep(1)\n",
    "        print(f'Wait: {i}')\n",
    "    return n+1\n",
    "\n",
    "def myfun2(n):\n",
    "    start_time = time.time()\n",
    "    returns = myfun1(n)\n",
    "    print(f'Time consumption {time.time()-start_time}')\n",
    "    return returns\n",
    "\n",
    "myfun2(3)"
   ]
  },
  {
   "cell_type": "code",
   "execution_count": 4,
   "metadata": {},
   "outputs": [
    {
     "name": "stdout",
     "output_type": "stream",
     "text": [
      "Wait: 0\n",
      "Wait: 1\n",
      "Wait: 2\n",
      "Time consumption 3.009680986404419\n"
     ]
    },
    {
     "data": {
      "text/plain": [
       "4"
      ]
     },
     "execution_count": 4,
     "metadata": {},
     "output_type": "execute_result"
    }
   ],
   "source": [
    "# A decorator\n",
    "def myTimeDecorator(func):\n",
    "    def wrapper(n):\n",
    "        start_time = time.time()\n",
    "        returns = func(n)\n",
    "        print(f'Time consumption {time.time()-start_time}')\n",
    "        return returns\n",
    "    return wrapper\n",
    "\n",
    "\n",
    "def myfun1(n):\n",
    "    for i in range(n):\n",
    "        time.sleep(1)\n",
    "        print(f'Wait: {i}')\n",
    "    return n+1\n",
    "\n",
    "myfun1 = myTimeDecorator(myfun1)\n",
    "\n",
    "myfun1(3)"
   ]
  },
  {
   "cell_type": "code",
   "execution_count": 5,
   "metadata": {},
   "outputs": [
    {
     "name": "stdout",
     "output_type": "stream",
     "text": [
      "Wait: 0\n",
      "Wait: 1\n",
      "Wait: 2\n",
      "Time consumption 3.0092110633850098\n"
     ]
    },
    {
     "data": {
      "text/plain": [
       "4"
      ]
     },
     "execution_count": 5,
     "metadata": {},
     "output_type": "execute_result"
    }
   ],
   "source": [
    "# Write decorator in Python with @\n",
    "def myTimeDecorator(func):\n",
    "    def wrapper(n):\n",
    "        start_time = time.time()\n",
    "        returns = func(n)\n",
    "        print(f'Time consumption {time.time()-start_time}')\n",
    "        return returns\n",
    "    return wrapper\n",
    "\n",
    "@myTimeDecorator\n",
    "def myfun1(n):\n",
    "    for i in range(n):\n",
    "        time.sleep(1)\n",
    "        print(f'Wait: {i}')\n",
    "    return n+1\n",
    "\n",
    "myfun1(3)"
   ]
  },
  {
   "cell_type": "code",
   "execution_count": 6,
   "metadata": {},
   "outputs": [
    {
     "name": "stdout",
     "output_type": "stream",
     "text": [
      "Wait: 0\n",
      "Wait: 1\n",
      "Wait: 2\n"
     ]
    },
    {
     "data": {
      "text/plain": [
       "4"
      ]
     },
     "execution_count": 6,
     "metadata": {},
     "output_type": "execute_result"
    }
   ],
   "source": [
    "# Another example:\n",
    "# Sometimes, you need to write a inherited class from others' work. \n",
    "# To make sure that you override the correct attributes, you can use a decorator to check it.\n",
    "\n",
    "\n",
    "class A:\n",
    "    def myfun1(self, n):\n",
    "        raise NotImplementedError\n",
    "\n",
    "class A_child(A):\n",
    "    def myfun1(self, n):\n",
    "        for i in range(n):\n",
    "#             time.sleep(1)\n",
    "            print(f'Wait: {i}')\n",
    "        return n+1\n",
    "    \n",
    "a = A_child()\n",
    "a.myfun1(3)"
   ]
  },
  {
   "cell_type": "code",
   "execution_count": 7,
   "metadata": {},
   "outputs": [],
   "source": [
    "# Reference: https://stackoverflow.com/questions/1167617/in-python-how-do-i-indicate-im-overriding-a-method/8313042#8313042\n",
    "\n",
    "def overrides(interface_class):\n",
    "    def overrider(method):\n",
    "        assert method.__name__ in dir(interface_class), \\\n",
    "        f'This attribute {method} is not an attribute in class {interface_class}'\n",
    "        return method\n",
    "    return overrider"
   ]
  },
  {
   "cell_type": "code",
   "execution_count": 21,
   "metadata": {},
   "outputs": [
    {
     "ename": "AssertionError",
     "evalue": "This attribute <function A_child.myfan1 at 0x000001C00D13F9D8> is not an attribute in class <class '__main__.A'>",
     "output_type": "error",
     "traceback": [
      "\u001b[1;31m---------------------------------------------------------------------------\u001b[0m",
      "\u001b[1;31mAssertionError\u001b[0m                            Traceback (most recent call last)",
      "\u001b[1;32m<ipython-input-21-a57e976cdb0b>\u001b[0m in \u001b[0;36m<module>\u001b[1;34m()\u001b[0m\n\u001b[1;32m----> 1\u001b[1;33m \u001b[1;32mclass\u001b[0m \u001b[0mA_child\u001b[0m\u001b[1;33m(\u001b[0m\u001b[0mA\u001b[0m\u001b[1;33m)\u001b[0m\u001b[1;33m:\u001b[0m\u001b[1;33m\u001b[0m\u001b[0m\n\u001b[0m\u001b[0;32m      2\u001b[0m     \u001b[1;33m@\u001b[0m\u001b[0moverrides\u001b[0m\u001b[1;33m(\u001b[0m\u001b[0mA\u001b[0m\u001b[1;33m)\u001b[0m\u001b[1;33m\u001b[0m\u001b[0m\n\u001b[0;32m      3\u001b[0m     \u001b[1;32mdef\u001b[0m \u001b[0mmyfan1\u001b[0m\u001b[1;33m(\u001b[0m\u001b[0mself\u001b[0m\u001b[1;33m,\u001b[0m \u001b[0mn\u001b[0m\u001b[1;33m)\u001b[0m\u001b[1;33m:\u001b[0m\u001b[1;33m\u001b[0m\u001b[0m\n\u001b[0;32m      4\u001b[0m         \u001b[1;32mfor\u001b[0m \u001b[0mi\u001b[0m \u001b[1;32min\u001b[0m \u001b[0mrange\u001b[0m\u001b[1;33m(\u001b[0m\u001b[0mn\u001b[0m\u001b[1;33m)\u001b[0m\u001b[1;33m:\u001b[0m\u001b[1;33m\u001b[0m\u001b[0m\n\u001b[0;32m      5\u001b[0m \u001b[1;31m#             time.sleep(1)\u001b[0m\u001b[1;33m\u001b[0m\u001b[1;33m\u001b[0m\u001b[0m\n",
      "\u001b[1;32m<ipython-input-21-a57e976cdb0b>\u001b[0m in \u001b[0;36mA_child\u001b[1;34m()\u001b[0m\n\u001b[0;32m      1\u001b[0m \u001b[1;32mclass\u001b[0m \u001b[0mA_child\u001b[0m\u001b[1;33m(\u001b[0m\u001b[0mA\u001b[0m\u001b[1;33m)\u001b[0m\u001b[1;33m:\u001b[0m\u001b[1;33m\u001b[0m\u001b[0m\n\u001b[1;32m----> 2\u001b[1;33m     \u001b[1;33m@\u001b[0m\u001b[0moverrides\u001b[0m\u001b[1;33m(\u001b[0m\u001b[0mA\u001b[0m\u001b[1;33m)\u001b[0m\u001b[1;33m\u001b[0m\u001b[0m\n\u001b[0m\u001b[0;32m      3\u001b[0m     \u001b[1;32mdef\u001b[0m \u001b[0mmyfan1\u001b[0m\u001b[1;33m(\u001b[0m\u001b[0mself\u001b[0m\u001b[1;33m,\u001b[0m \u001b[0mn\u001b[0m\u001b[1;33m)\u001b[0m\u001b[1;33m:\u001b[0m\u001b[1;33m\u001b[0m\u001b[0m\n\u001b[0;32m      4\u001b[0m         \u001b[1;32mfor\u001b[0m \u001b[0mi\u001b[0m \u001b[1;32min\u001b[0m \u001b[0mrange\u001b[0m\u001b[1;33m(\u001b[0m\u001b[0mn\u001b[0m\u001b[1;33m)\u001b[0m\u001b[1;33m:\u001b[0m\u001b[1;33m\u001b[0m\u001b[0m\n\u001b[0;32m      5\u001b[0m \u001b[1;31m#             time.sleep(1)\u001b[0m\u001b[1;33m\u001b[0m\u001b[1;33m\u001b[0m\u001b[0m\n",
      "\u001b[1;32m<ipython-input-20-22a5d0051051>\u001b[0m in \u001b[0;36moverrider\u001b[1;34m(method)\u001b[0m\n\u001b[0;32m      2\u001b[0m \u001b[1;32mdef\u001b[0m \u001b[0moverrides\u001b[0m\u001b[1;33m(\u001b[0m\u001b[0minterface_class\u001b[0m\u001b[1;33m)\u001b[0m\u001b[1;33m:\u001b[0m\u001b[1;33m\u001b[0m\u001b[0m\n\u001b[0;32m      3\u001b[0m     \u001b[1;32mdef\u001b[0m \u001b[0moverrider\u001b[0m\u001b[1;33m(\u001b[0m\u001b[0mmethod\u001b[0m\u001b[1;33m)\u001b[0m\u001b[1;33m:\u001b[0m\u001b[1;33m\u001b[0m\u001b[0m\n\u001b[1;32m----> 4\u001b[1;33m         \u001b[1;32massert\u001b[0m \u001b[0mmethod\u001b[0m\u001b[1;33m.\u001b[0m\u001b[0m__name__\u001b[0m \u001b[1;32min\u001b[0m \u001b[0mdir\u001b[0m\u001b[1;33m(\u001b[0m\u001b[0minterface_class\u001b[0m\u001b[1;33m)\u001b[0m\u001b[1;33m,\u001b[0m         \u001b[1;34mf'This attribute {method} is not an attribute in class {interface_class}'\u001b[0m\u001b[1;33m\u001b[0m\u001b[0m\n\u001b[0m\u001b[0;32m      5\u001b[0m         \u001b[1;32mreturn\u001b[0m \u001b[0mmethod\u001b[0m\u001b[1;33m\u001b[0m\u001b[0m\n\u001b[0;32m      6\u001b[0m     \u001b[1;32mreturn\u001b[0m \u001b[0moverrider\u001b[0m\u001b[1;33m\u001b[0m\u001b[0m\n",
      "\u001b[1;31mAssertionError\u001b[0m: This attribute <function A_child.myfan1 at 0x000001C00D13F9D8> is not an attribute in class <class '__main__.A'>"
     ]
    }
   ],
   "source": [
    "class A_child(A):\n",
    "    @overrides(A)\n",
    "    def myfan1(self, n):\n",
    "        for i in range(n):\n",
    "#             time.sleep(1)\n",
    "            print(f'Wait: {i}')\n",
    "        return n+1"
   ]
  },
  {
   "cell_type": "markdown",
   "metadata": {},
   "source": [
    "## Adapter\n",
    " - In software engineering, the adapter pattern is a software design pattern (also known as wrapper, an alternative naming shared with the decorator pattern) that allows the interface of an existing class to be used as another interface. It is often used to make existing classes work with others without modifying their source code. (Wikipedia)\n",
    " - Assume that now we have different classes which have differnet attributes name, but their funcitonality are similiar, how can we unify those interfaces? (Different databases has different interfaces, but their funcitonality are similar)."
   ]
  },
  {
   "cell_type": "code",
   "execution_count": 23,
   "metadata": {},
   "outputs": [],
   "source": [
    "# Reference: https://github.com/PJUllrich/Design-Patterns\n",
    "\n",
    "class Elf:\n",
    "    def nall_nin(self):\n",
    "        print('Elf says: Calling the Overlord ...')\n",
    "\n",
    "\n",
    "class Dwarf:\n",
    "    def estver_narho(self):\n",
    "        print('Dwarf says: Calling the Overlord ...')\n",
    "\n",
    "\n",
    "class Human:\n",
    "    def ring_mig(self):\n",
    "        print('Human says: Calling the Overlord ...')"
   ]
  },
  {
   "cell_type": "code",
   "execution_count": 24,
   "metadata": {},
   "outputs": [
    {
     "name": "stdout",
     "output_type": "stream",
     "text": [
      "Elf says: Calling the Overlord ...\n",
      "Dwarf says: Calling the Overlord ...\n",
      "Human says: Calling the Overlord ...\n"
     ]
    }
   ],
   "source": [
    "oneMinion = Elf()\n",
    "oneMinion.nall_nin()\n",
    "\n",
    "oneMinion = Dwarf()\n",
    "oneMinion.estver_narho()\n",
    "\n",
    "oneMinion = Human()\n",
    "oneMinion.ring_mig()"
   ]
  },
  {
   "cell_type": "code",
   "execution_count": 25,
   "metadata": {},
   "outputs": [
    {
     "name": "stdout",
     "output_type": "stream",
     "text": [
      "Elf says: Calling the Overlord ...\n",
      "Dwarf says: Calling the Overlord ...\n",
      "Human says: Calling the Overlord ...\n"
     ]
    }
   ],
   "source": [
    "# A better approach, but if there are multiple attributes in our target classes, this method would be tedious.\n",
    "def intepretor(minion):\n",
    "    if type(minion) == Elf:\n",
    "        minion.nall_nin()\n",
    "    elif type(minion) == Dwarf:\n",
    "        minion.estver_narho()\n",
    "    elif type(minion) == Human:\n",
    "        minion.ring_mig()\n",
    "    else:\n",
    "        raise TypeError\n",
    "        \n",
    "intepretor(Elf())\n",
    "intepretor(Dwarf())\n",
    "intepretor(Human())"
   ]
  },
  {
   "cell_type": "code",
   "execution_count": 63,
   "metadata": {},
   "outputs": [],
   "source": [
    "\n",
    "class MinionAdapter:\n",
    "    _initialised = False\n",
    "\n",
    "    def __init__(self, minion, **adapted_methods):\n",
    "        self.minion = minion\n",
    "#         print(self._initialised)\n",
    "        for key, value in adapted_methods.items():\n",
    "            func = getattr(self.minion, value)\n",
    "            self.__setattr__(key, func)\n",
    "\n",
    "        self._initialised = True\n",
    "\n",
    "    def __getattr__(self, attr):\n",
    "        \"\"\"Attributes not in Adapter are delegated to the minion\"\"\"\n",
    "        return getattr(self.minion, attr)\n",
    "\n",
    "    def __setattr__(self, key, value):\n",
    "        \"\"\"Set attributes normally during initialisation\"\"\"\n",
    "        if not self._initialised:\n",
    "            super().__setattr__(key, value)\n",
    "        else:\n",
    "            \"\"\"Set attributes on minion after initialisation\"\"\"\n",
    "            setattr(self.minion, key, value)"
   ]
  },
  {
   "cell_type": "code",
   "execution_count": 67,
   "metadata": {},
   "outputs": [],
   "source": [
    "elf = Elf()\n",
    "a = MinionAdapter(elf, call = 'nall_nin')\n",
    "b = MinionAdapter(Dwarf(), call = 'estver_narho')\n",
    "c = MinionAdapter(Human(), call = 'ring_mig')"
   ]
  },
  {
   "cell_type": "code",
   "execution_count": 69,
   "metadata": {},
   "outputs": [],
   "source": [
    "a.name = '100'"
   ]
  },
  {
   "cell_type": "code",
   "execution_count": 70,
   "metadata": {},
   "outputs": [
    {
     "data": {
      "text/plain": [
       "'100'"
      ]
     },
     "execution_count": 70,
     "metadata": {},
     "output_type": "execute_result"
    }
   ],
   "source": [
    "elf.name"
   ]
  },
  {
   "cell_type": "code",
   "execution_count": 66,
   "metadata": {},
   "outputs": [
    {
     "name": "stdout",
     "output_type": "stream",
     "text": [
      "Elf says: Calling the Overlord ...\n",
      "Dwarf says: Calling the Overlord ...\n",
      "Human says: Calling the Overlord ...\n"
     ]
    }
   ],
   "source": [
    "a.call()\n",
    "b.call()\n",
    "c.call()"
   ]
  },
  {
   "cell_type": "markdown",
   "metadata": {},
   "source": [
    "## Observer\n",
    " - The observer pattern is a software design pattern in which an object, called the subject, maintains a list of its dependents, called observers, and notifies them automatically of any state changes, usually by calling one of their methods. (Wikipedia)\n",
    " - Assume we have problem that we have a read-only instance which has many intermediate data attributes. Users have access to modify those attributes, but it is not encouraged. How can we give a warning or raise an error when users attempt to write them?"
   ]
  },
  {
   "cell_type": "code",
   "execution_count": 72,
   "metadata": {},
   "outputs": [],
   "source": [
    "class MCEngine:\n",
    "    def __init__(self, num):\n",
    "        self.simulation_times = num\n",
    "    def simulate(self):\n",
    "        print(f'Monte-Carlo simulation ({self.simulation_times} times) is going on. ')"
   ]
  },
  {
   "cell_type": "code",
   "execution_count": 74,
   "metadata": {},
   "outputs": [
    {
     "name": "stdout",
     "output_type": "stream",
     "text": [
      "Monte-Carlo simulation (100 times) is going on. \n"
     ]
    }
   ],
   "source": [
    "engine = MCEngine(100)\n",
    "engine.simulate()"
   ]
  },
  {
   "cell_type": "code",
   "execution_count": 75,
   "metadata": {},
   "outputs": [
    {
     "name": "stdout",
     "output_type": "stream",
     "text": [
      "Monte-Carlo simulation (1000 times) is going on. \n"
     ]
    }
   ],
   "source": [
    "# User can modify attributes from out side of this class.\n",
    "engine = MCEngine(100)\n",
    "engine.simulation_times = 1000\n",
    "engine.simulate()"
   ]
  },
  {
   "cell_type": "code",
   "execution_count": 85,
   "metadata": {},
   "outputs": [],
   "source": [
    "# We can use observer to solve this:\n",
    "# Firstly, we give two base classes.\n",
    "\n",
    "class Observer:\n",
    "    def __init__(self):\n",
    "        self.logger = []\n",
    "    def update(self, obj, *args, **kwargs):\n",
    "        message = f'Object: {obj}, Args: {args}, Kwargs: {kwargs}'\n",
    "        print(message)\n",
    "        self.logger.append(message)\n",
    "\n",
    "\n",
    "class Observable:\n",
    "    def __init__(self):\n",
    "        self._observers = []\n",
    "\n",
    "    def add_observer(self, observer):\n",
    "        self._observers.append(observer)\n",
    "\n",
    "    def remove_observer(self, observer):\n",
    "        self._observers.remove(observer)\n",
    "\n",
    "    def notify_observer(self, *args, **kwargs):\n",
    "        for observer in self._observers:\n",
    "            observer.update(self, *args, **kwargs)"
   ]
  },
  {
   "cell_type": "code",
   "execution_count": 87,
   "metadata": {},
   "outputs": [],
   "source": [
    "class ObservableAdapter(Observable):\n",
    "    _initialised = False\n",
    "\n",
    "    def __init__(self, obj):\n",
    "        Observable.__init__(self)\n",
    "        self.obj = obj\n",
    "        self._initialised = True\n",
    "        \n",
    "    def __getattr__(self, attr):\n",
    "        return getattr(self.obj, attr)\n",
    "\n",
    "    def __setattr__(self, key, value):\n",
    "        if not self._initialised:\n",
    "            super().__setattr__(key, value)\n",
    "        else:\n",
    "            setattr(self.obj, key, value)\n",
    "            self.notify_observer(self.obj, key, value)"
   ]
  },
  {
   "cell_type": "code",
   "execution_count": 89,
   "metadata": {},
   "outputs": [
    {
     "name": "stdout",
     "output_type": "stream",
     "text": [
      "Object: <__main__.ObservableAdapter object at 0x000001C00D4465F8>, Args: (<__main__.MCEngine object at 0x000001C00D446630>, 'simulation_times', 1000), Kwargs: {}\n",
      "Object: <__main__.ObservableAdapter object at 0x000001C00D4465F8>, Args: (<__main__.MCEngine object at 0x000001C00D446630>, 'simulation_times', 10000), Kwargs: {}\n",
      "Monte-Carlo simulation (10000 times) is going on. \n"
     ]
    }
   ],
   "source": [
    "engine = ObservableAdapter(MCEngine(100))\n",
    "simulation_monitor = Observer()\n",
    "engine.add_observer(simulation_monitor)\n",
    "\n",
    "engine.simulation_times = 1000\n",
    "engine.simulation_times = 10000\n",
    "\n",
    "engine.simulate()"
   ]
  },
  {
   "cell_type": "code",
   "execution_count": 90,
   "metadata": {},
   "outputs": [
    {
     "name": "stdout",
     "output_type": "stream",
     "text": [
      "Object: <__main__.ObservableAdapter object at 0x000001C00D4465F8>, Args: (<__main__.MCEngine object at 0x000001C00D446630>, 'simulation_times', 1000), Kwargs: {}\n",
      "Object: <__main__.ObservableAdapter object at 0x000001C00D4465F8>, Args: (<__main__.MCEngine object at 0x000001C00D446630>, 'simulation_times', 10000), Kwargs: {}\n"
     ]
    }
   ],
   "source": [
    "for message in simulation_monitor.logger:\n",
    "    print(message)"
   ]
  },
  {
   "cell_type": "markdown",
   "metadata": {},
   "source": [
    "## Factory Method & Singleton\n",
    " - Assume we have a set of classes (Square, Rectangular, Circle), we want a unique global 'factory' such that I can create different instances by pass different strings to this 'factory'. To achieve this, we need this 'factory' has following bahaviour:\n",
    "  1. This factory allows me to create 'Square' instance just by doing something like: factory('square', length)\n",
    "  1. This factory allows me register new classes, e.g. factory.register(circle=Circle)\n",
    "  1. This factory is unique (only one factory instance exists in gloabal environment) \\[Singleton\\]"
   ]
  },
  {
   "cell_type": "code",
   "execution_count": 93,
   "metadata": {},
   "outputs": [],
   "source": [
    "class Shape:\n",
    "    def area(self):\n",
    "        raise NotImplementedError"
   ]
  },
  {
   "cell_type": "code",
   "execution_count": 98,
   "metadata": {},
   "outputs": [
    {
     "name": "stdout",
     "output_type": "stream",
     "text": [
      "16\n",
      "12\n",
      "50.26548245743669\n"
     ]
    }
   ],
   "source": [
    "from numpy import pi\n",
    "\n",
    "class Square(Shape):\n",
    "    def __init__(self, length):\n",
    "        self.length = length\n",
    "        \n",
    "    @overrides(Shape)\n",
    "    def area(self):\n",
    "        return self.length**2\n",
    "    \n",
    "class Rectangular(Shape):\n",
    "    def __init__(self, length, width):\n",
    "        self.length = length\n",
    "        self.width = width\n",
    "    @overrides(Shape)\n",
    "    def area(self):\n",
    "        return self.length*self.width\n",
    "    \n",
    "class Circle(Shape):\n",
    "    def __init__(self, radius):\n",
    "        self.radius = radius\n",
    "        \n",
    "    @overrides(Shape)\n",
    "    def area(self):\n",
    "        return pi*self.radius**2\n",
    "    \n",
    "print(Square(4).area())\n",
    "print(Rectangular(3,4).area())\n",
    "print(Circle(4).area())"
   ]
  },
  {
   "cell_type": "code",
   "execution_count": 106,
   "metadata": {},
   "outputs": [
    {
     "name": "stdout",
     "output_type": "stream",
     "text": [
      "16\n",
      "12\n",
      "50.26548245743669\n"
     ]
    }
   ],
   "source": [
    "# We achieve (1) by hard coding a function.\n",
    "def factory(name, *args, **kwargs):\n",
    "    if name == 'square':\n",
    "        return Square(*args, **kwargs)\n",
    "    elif name == 'rectangular':\n",
    "        return Rectangular(*args, **kwargs)\n",
    "    elif name == 'circle':\n",
    "        return Circle(*args, **kwargs)\n",
    "    else:\n",
    "        raise TypeError\n",
    "        \n",
    "print(factory('square', 4).area())\n",
    "print(factory('rectangular', 3,4).area())\n",
    "print(factory('circle', 4).area())\n"
   ]
  },
  {
   "cell_type": "markdown",
   "metadata": {},
   "source": [
    "### `__new__` method\n",
    " - `__new__` method is a new feature for Python 3. It is to create a new instance of class cls. `__new__()` is a static method (special-cased so you need not declare it as such) that takes the class of which an instance was requested as its first argument.\n",
    " - If `__new__` method is not specified, it will return a instance of corresponding class, then the returned object's `__init__` method will be called.\n",
    " - You can also return other objects in `__new__()` method.(`__init__()` method can only return None)"
   ]
  },
  {
   "cell_type": "code",
   "execution_count": 110,
   "metadata": {},
   "outputs": [
    {
     "name": "stdout",
     "output_type": "stream",
     "text": [
      "__new__ is called\n",
      "__init__ is called\n"
     ]
    },
    {
     "data": {
      "text/plain": [
       "<__main__.A at 0x1c00d4af710>"
      ]
     },
     "execution_count": 110,
     "metadata": {},
     "output_type": "execute_result"
    }
   ],
   "source": [
    "class A:\n",
    "    def __new__(cls):\n",
    "        print('__new__ is called')\n",
    "        return super().__new__(cls)\n",
    "    def __init__(self):\n",
    "        print('__init__ is called')\n",
    "#         return 1\n",
    "        \n",
    "A()"
   ]
  },
  {
   "cell_type": "code",
   "execution_count": 111,
   "metadata": {},
   "outputs": [
    {
     "name": "stdout",
     "output_type": "stream",
     "text": [
      "16\n",
      "12\n",
      "50.26548245743669\n"
     ]
    }
   ],
   "source": [
    "class factory:\n",
    "    def __new__(cls, name, *args, **kwargs):\n",
    "        if name == 'square':\n",
    "            return Square(*args, **kwargs)\n",
    "        elif name == 'rectangular':\n",
    "            return Rectangular(*args, **kwargs)\n",
    "        elif name == 'circle':\n",
    "            return Circle(*args, **kwargs)\n",
    "        else:\n",
    "            raise TypeError(f'\"{name}\" is not one key in this factory')\n",
    "        \n",
    "            \n",
    "\n",
    "print(factory('square', 4).area())\n",
    "print(factory('rectangular', 3,4).area())\n",
    "print(factory('circle', 4).area())"
   ]
  },
  {
   "cell_type": "code",
   "execution_count": 135,
   "metadata": {},
   "outputs": [
    {
     "name": "stdout",
     "output_type": "stream",
     "text": [
      "Factory infomation: <class '__main__.Square'> is registered as \"square\"\n",
      "Factory infomation: <class '__main__.Rectangular'> is registered as \"rectangular\"\n",
      "Factory infomation: <class '__main__.Circle'> is registered as \"circle\"\n",
      "16\n",
      "12\n",
      "50.26548245743669\n",
      "Factory message: key(circle) is removed.? \n"
     ]
    },
    {
     "ename": "TypeError",
     "evalue": "",
     "output_type": "error",
     "traceback": [
      "\u001b[1;31m---------------------------------------------------------------------------\u001b[0m",
      "\u001b[1;31mTypeError\u001b[0m                                 Traceback (most recent call last)",
      "\u001b[1;32m<ipython-input-135-427a147d4aa3>\u001b[0m in \u001b[0;36m<module>\u001b[1;34m()\u001b[0m\n\u001b[0;32m     31\u001b[0m \u001b[1;33m\u001b[0m\u001b[0m\n\u001b[0;32m     32\u001b[0m \u001b[0mshapeFactory\u001b[0m\u001b[1;33m.\u001b[0m\u001b[0mRemoveKey\u001b[0m\u001b[1;33m(\u001b[0m\u001b[1;34m'circle'\u001b[0m\u001b[1;33m)\u001b[0m\u001b[1;33m\u001b[0m\u001b[0m\n\u001b[1;32m---> 33\u001b[1;33m \u001b[0mprint\u001b[0m\u001b[1;33m(\u001b[0m\u001b[0mshapeFactory\u001b[0m\u001b[1;33m.\u001b[0m\u001b[0mCreateInstance\u001b[0m\u001b[1;33m(\u001b[0m\u001b[1;34m'circle'\u001b[0m\u001b[1;33m,\u001b[0m \u001b[1;36m4\u001b[0m\u001b[1;33m)\u001b[0m\u001b[1;33m.\u001b[0m\u001b[0marea\u001b[0m\u001b[1;33m(\u001b[0m\u001b[1;33m)\u001b[0m\u001b[1;33m)\u001b[0m\u001b[1;33m\u001b[0m\u001b[0m\n\u001b[0m",
      "\u001b[1;32m<ipython-input-135-427a147d4aa3>\u001b[0m in \u001b[0;36mCreateInstance\u001b[1;34m(self, name, *args, **kwargs)\u001b[0m\n\u001b[0;32m     13\u001b[0m             \u001b[1;32mreturn\u001b[0m \u001b[0mself\u001b[0m\u001b[1;33m.\u001b[0m\u001b[0melement\u001b[0m\u001b[1;33m[\u001b[0m\u001b[0mname\u001b[0m\u001b[1;33m]\u001b[0m\u001b[1;33m(\u001b[0m\u001b[1;33m*\u001b[0m\u001b[0margs\u001b[0m\u001b[1;33m,\u001b[0m \u001b[1;33m**\u001b[0m\u001b[0mkwargs\u001b[0m\u001b[1;33m)\u001b[0m\u001b[1;33m\u001b[0m\u001b[0m\n\u001b[0;32m     14\u001b[0m         \u001b[1;32melse\u001b[0m\u001b[1;33m:\u001b[0m\u001b[1;33m\u001b[0m\u001b[0m\n\u001b[1;32m---> 15\u001b[1;33m             \u001b[1;32mraise\u001b[0m \u001b[0mTypeError\u001b[0m\u001b[1;33m\u001b[0m\u001b[0m\n\u001b[0m\u001b[0;32m     16\u001b[0m \u001b[1;33m\u001b[0m\u001b[0m\n\u001b[0;32m     17\u001b[0m     \u001b[1;32mdef\u001b[0m \u001b[0mRemoveKey\u001b[0m\u001b[1;33m(\u001b[0m\u001b[0mself\u001b[0m\u001b[1;33m,\u001b[0m \u001b[1;33m*\u001b[0m\u001b[0margs\u001b[0m\u001b[1;33m)\u001b[0m\u001b[1;33m:\u001b[0m\u001b[1;33m\u001b[0m\u001b[0m\n",
      "\u001b[1;31mTypeError\u001b[0m: "
     ]
    }
   ],
   "source": [
    "# To achieve (2)\n",
    "class Factory:\n",
    "    def __init__(self):\n",
    "        self.element = {}\n",
    "        \n",
    "    def RegisterInstance(self, **kwargs):\n",
    "        for key, value in kwargs.items():\n",
    "            self.element[key] = value\n",
    "            print(f'Factory infomation: {value} is registered as \"{key}\"')\n",
    "            \n",
    "    def CreateInstance(self, name, *args, **kwargs):\n",
    "        if name in self.element:\n",
    "            return self.element[name](*args, **kwargs)\n",
    "        else:\n",
    "            raise TypeError(f'\"{name}\" is not one key in this factory')\n",
    "            \n",
    "    def RemoveKey(self, *args):\n",
    "        for arg in args:\n",
    "            del self.element[arg]\n",
    "            print(f'Factory message: key({arg}) is removed. ')\n",
    "\n",
    "shapeFactory = Factory()\n",
    "\n",
    "shapeFactory.RegisterInstance(square = Square,\n",
    "                         rectangular = Rectangular,\n",
    "                         circle = Circle)\n",
    "\n",
    "print(shapeFactory.CreateInstance('square', 4).area())\n",
    "print(shapeFactory.CreateInstance('rectangular', 3,4).area())\n",
    "print(shapeFactory.CreateInstance('circle', 4).area())\n",
    "\n",
    "shapeFactory.RemoveKey('circle')\n",
    "print(shapeFactory.CreateInstance('circle', 4).area())"
   ]
  },
  {
   "cell_type": "code",
   "execution_count": 137,
   "metadata": {},
   "outputs": [
    {
     "name": "stdout",
     "output_type": "stream",
     "text": [
      "Factory infomation: <class '__main__.Square'> is registered as \"square\"\n",
      "Factory infomation: <class '__main__.Rectangular'> is registered as \"rectangular\"\n",
      "Factory infomation: <class '__main__.Circle'> is registered as \"circle\"\n",
      "16\n",
      "12\n",
      "50.26548245743669\n",
      "Factory message: key(circle) is removed. \n"
     ]
    },
    {
     "ename": "TypeError",
     "evalue": "",
     "output_type": "error",
     "traceback": [
      "\u001b[1;31m---------------------------------------------------------------------------\u001b[0m",
      "\u001b[1;31mTypeError\u001b[0m                                 Traceback (most recent call last)",
      "\u001b[1;32m<ipython-input-137-7d5d56915391>\u001b[0m in \u001b[0;36m<module>\u001b[1;34m()\u001b[0m\n\u001b[0;32m     31\u001b[0m \u001b[1;33m\u001b[0m\u001b[0m\n\u001b[0;32m     32\u001b[0m \u001b[0mfactory\u001b[0m\u001b[1;33m.\u001b[0m\u001b[0mRemoveKey\u001b[0m\u001b[1;33m(\u001b[0m\u001b[1;34m'circle'\u001b[0m\u001b[1;33m)\u001b[0m\u001b[1;33m\u001b[0m\u001b[0m\n\u001b[1;32m---> 33\u001b[1;33m \u001b[0mprint\u001b[0m\u001b[1;33m(\u001b[0m\u001b[0mfactory\u001b[0m\u001b[1;33m(\u001b[0m\u001b[1;34m'circle'\u001b[0m\u001b[1;33m,\u001b[0m \u001b[1;36m4\u001b[0m\u001b[1;33m)\u001b[0m\u001b[1;33m.\u001b[0m\u001b[0marea\u001b[0m\u001b[1;33m(\u001b[0m\u001b[1;33m)\u001b[0m\u001b[1;33m)\u001b[0m\u001b[1;33m\u001b[0m\u001b[0m\n\u001b[0m",
      "\u001b[1;32m<ipython-input-137-7d5d56915391>\u001b[0m in \u001b[0;36m__new__\u001b[1;34m(cls, name, *args, **kwargs)\u001b[0m\n\u001b[0;32m      7\u001b[0m             \u001b[1;32mreturn\u001b[0m \u001b[0mfactory\u001b[0m\u001b[1;33m.\u001b[0m\u001b[0m__element\u001b[0m\u001b[1;33m[\u001b[0m\u001b[0mname\u001b[0m\u001b[1;33m]\u001b[0m\u001b[1;33m(\u001b[0m\u001b[1;33m*\u001b[0m\u001b[0margs\u001b[0m\u001b[1;33m,\u001b[0m \u001b[1;33m**\u001b[0m\u001b[0mkwargs\u001b[0m\u001b[1;33m)\u001b[0m\u001b[1;33m\u001b[0m\u001b[0m\n\u001b[0;32m      8\u001b[0m         \u001b[1;32melse\u001b[0m\u001b[1;33m:\u001b[0m\u001b[1;33m\u001b[0m\u001b[0m\n\u001b[1;32m----> 9\u001b[1;33m             \u001b[1;32mraise\u001b[0m \u001b[0mTypeError\u001b[0m\u001b[1;33m\u001b[0m\u001b[0m\n\u001b[0m\u001b[0;32m     10\u001b[0m \u001b[1;33m\u001b[0m\u001b[0m\n\u001b[0;32m     11\u001b[0m     \u001b[1;33m@\u001b[0m\u001b[0mclassmethod\u001b[0m\u001b[1;33m\u001b[0m\u001b[0m\n",
      "\u001b[1;31mTypeError\u001b[0m: "
     ]
    }
   ],
   "source": [
    "# Instead, we can use class object and __new__ method as well. \n",
    "# Since we use class object, it is global and unique, thus (3) is achieved.\n",
    "class factory:\n",
    "    __element = {}\n",
    "    def __new__(cls, name, *args, **kwargs):\n",
    "        if name in factory.__element:\n",
    "            return factory.__element[name](*args, **kwargs)\n",
    "        else:\n",
    "            raise TypeError(f'\"{name}\" is not one key in this factory')\n",
    "            \n",
    "    @classmethod\n",
    "    def RegisterKey(cls, **kwargs):\n",
    "        for key, value in kwargs.items():\n",
    "            cls.__element[key] = value\n",
    "            print(f'Factory infomation: {value} is registered as \"{key}\"')\n",
    "    \n",
    "    @classmethod\n",
    "    def RemoveKey(cls, *args):\n",
    "        for arg in args:\n",
    "            del cls.__element[arg]\n",
    "            print(f'Factory message: key({arg}) is removed. ')\n",
    "      \n",
    "\n",
    "factory.RegisterKey(square = Square,\n",
    "                         rectangular = Rectangular,\n",
    "                         circle = Circle)\n",
    "\n",
    "print(factory('square', 4).area())\n",
    "print(factory('rectangular', 3,4).area())\n",
    "print(factory('circle', 4).area())\n",
    "\n",
    "factory.RemoveKey('circle')\n",
    "print(factory('circle', 4).area())"
   ]
  },
  {
   "cell_type": "code",
   "execution_count": 131,
   "metadata": {},
   "outputs": [
    {
     "name": "stdout",
     "output_type": "stream",
     "text": [
      "<__main__.OnlyOne.__OnlyOne object at 0x000001C00D4B5BA8>sausage\n",
      "<__main__.OnlyOne.__OnlyOne object at 0x000001C00D4B5BA8>eggs\n",
      "<__main__.OnlyOne.__OnlyOne object at 0x000001C00D4B5BA8>spam\n",
      "<__main__.OnlyOne.__OnlyOne object at 0x000001C00D4B5BA8>spam\n",
      "<__main__.OnlyOne.__OnlyOne object at 0x000001C00D4B5BA8>spam\n"
     ]
    }
   ],
   "source": [
    "# Another approach to achieve (3) with Singleton pattern\n",
    "# Reference: https://python-3-patterns-idioms-test.readthedocs.io/en/latest/Singleton.html\n",
    "# Singleton/SingletonPattern.py\n",
    "\n",
    "class OnlyOne:\n",
    "    class __OnlyOne:\n",
    "        def __init__(self, arg):\n",
    "            self.val = arg\n",
    "        def __str__(self):\n",
    "            return repr(self) + self.val\n",
    "    instance = None\n",
    "    def __init__(self, arg):\n",
    "        if not self.instance:\n",
    "            OnlyOne.instance = OnlyOne.__OnlyOne(arg)\n",
    "        else:\n",
    "            OnlyOne.instance.val = arg\n",
    "    def __getattr__(self, name):\n",
    "        return getattr(self.instance, name)\n",
    "    \n",
    "    def __repr__(self):\n",
    "        return str(self.instance)\n",
    "\n",
    "x = OnlyOne('sausage')\n",
    "print(x)\n",
    "y = OnlyOne('eggs')\n",
    "print(y)\n",
    "z = OnlyOne('spam')\n",
    "print(z)\n",
    "print(x)\n",
    "print(y)"
   ]
  },
  {
   "cell_type": "code",
   "execution_count": 143,
   "metadata": {},
   "outputs": [
    {
     "name": "stdout",
     "output_type": "stream",
     "text": [
      "Factory infomation: <class '__main__.Square'> is registered as \"square\"\n",
      "Factory infomation: <class '__main__.Rectangular'> is registered as \"rectangular\"\n",
      "Factory infomation: <class '__main__.Circle'> is registered as \"circle\"\n",
      "16\n",
      "12\n",
      "50.26548245743669\n",
      "Factory message: key(circle) is removed. \n"
     ]
    },
    {
     "ename": "TypeError",
     "evalue": "\"circle\" is not one key in this factory",
     "output_type": "error",
     "traceback": [
      "\u001b[1;31m---------------------------------------------------------------------------\u001b[0m",
      "\u001b[1;31mTypeError\u001b[0m                                 Traceback (most recent call last)",
      "\u001b[1;32m<ipython-input-143-be6cfdc72837>\u001b[0m in \u001b[0;36m<module>\u001b[1;34m()\u001b[0m\n\u001b[0;32m     44\u001b[0m \u001b[1;33m\u001b[0m\u001b[0m\n\u001b[0;32m     45\u001b[0m \u001b[0mshapeFactory\u001b[0m\u001b[1;33m.\u001b[0m\u001b[0mRemoveKey\u001b[0m\u001b[1;33m(\u001b[0m\u001b[1;34m'circle'\u001b[0m\u001b[1;33m)\u001b[0m\u001b[1;33m\u001b[0m\u001b[0m\n\u001b[1;32m---> 46\u001b[1;33m \u001b[0mprint\u001b[0m\u001b[1;33m(\u001b[0m\u001b[0mshapeFactory\u001b[0m\u001b[1;33m.\u001b[0m\u001b[0mCreateInstance\u001b[0m\u001b[1;33m(\u001b[0m\u001b[1;34m'circle'\u001b[0m\u001b[1;33m,\u001b[0m \u001b[1;36m4\u001b[0m\u001b[1;33m)\u001b[0m\u001b[1;33m.\u001b[0m\u001b[0marea\u001b[0m\u001b[1;33m(\u001b[0m\u001b[1;33m)\u001b[0m\u001b[1;33m)\u001b[0m\u001b[1;33m\u001b[0m\u001b[0m\n\u001b[0m",
      "\u001b[1;32m<ipython-input-143-be6cfdc72837>\u001b[0m in \u001b[0;36mCreateInstance\u001b[1;34m(self, name, *args, **kwargs)\u001b[0m\n\u001b[0;32m     13\u001b[0m                 \u001b[1;32mreturn\u001b[0m \u001b[0mself\u001b[0m\u001b[1;33m.\u001b[0m\u001b[0melement\u001b[0m\u001b[1;33m[\u001b[0m\u001b[0mname\u001b[0m\u001b[1;33m]\u001b[0m\u001b[1;33m(\u001b[0m\u001b[1;33m*\u001b[0m\u001b[0margs\u001b[0m\u001b[1;33m,\u001b[0m \u001b[1;33m**\u001b[0m\u001b[0mkwargs\u001b[0m\u001b[1;33m)\u001b[0m\u001b[1;33m\u001b[0m\u001b[0m\n\u001b[0;32m     14\u001b[0m             \u001b[1;32melse\u001b[0m\u001b[1;33m:\u001b[0m\u001b[1;33m\u001b[0m\u001b[0m\n\u001b[1;32m---> 15\u001b[1;33m                 \u001b[1;32mraise\u001b[0m \u001b[0mTypeError\u001b[0m\u001b[1;33m(\u001b[0m\u001b[1;34mf'\"{name}\" is not one key in this factory'\u001b[0m\u001b[1;33m)\u001b[0m\u001b[1;33m\u001b[0m\u001b[0m\n\u001b[0m\u001b[0;32m     16\u001b[0m \u001b[1;33m\u001b[0m\u001b[0m\n\u001b[0;32m     17\u001b[0m         \u001b[1;32mdef\u001b[0m \u001b[0mRemoveKey\u001b[0m\u001b[1;33m(\u001b[0m\u001b[0mself\u001b[0m\u001b[1;33m,\u001b[0m \u001b[1;33m*\u001b[0m\u001b[0margs\u001b[0m\u001b[1;33m)\u001b[0m\u001b[1;33m:\u001b[0m\u001b[1;33m\u001b[0m\u001b[0m\n",
      "\u001b[1;31mTypeError\u001b[0m: \"circle\" is not one key in this factory"
     ]
    }
   ],
   "source": [
    "class Factory:\n",
    "    class __factory:\n",
    "        def __init__(self):\n",
    "            self.element = {}\n",
    "\n",
    "        def RegisterInstance(self, **kwargs):\n",
    "            for key, value in kwargs.items():\n",
    "                self.element[key] = value\n",
    "                print(f'Factory infomation: {value} is registered as \"{key}\"')\n",
    "\n",
    "        def CreateInstance(self, name, *args, **kwargs):\n",
    "            if name in self.element:\n",
    "                return self.element[name](*args, **kwargs)\n",
    "            else:\n",
    "                raise TypeError(f'\"{name}\" is not one key in this factory')\n",
    "                \n",
    "        def RemoveKey(self, *args):\n",
    "            for arg in args:\n",
    "                del self.element[arg]\n",
    "                print(f'Factory message: key({arg}) is removed. ')\n",
    "                \n",
    "    instance = None\n",
    "    def __init__(self):\n",
    "        if not Factory.instance:\n",
    "            Factory.instance = Factory.__factory()\n",
    "        else:\n",
    "            pass\n",
    "        \n",
    "    def __getattr__(self, name):\n",
    "        return getattr(self.instance, name)\n",
    "    \n",
    "    def __repr__(self):\n",
    "        return str(self.instance)\n",
    "    \n",
    "shapeFactory = Factory()\n",
    "\n",
    "shapeFactory.RegisterInstance(square = Square,\n",
    "                         rectangular = Rectangular,\n",
    "                         circle = Circle)\n",
    "\n",
    "print(shapeFactory.CreateInstance('square', 4).area())\n",
    "print(shapeFactory.CreateInstance('rectangular', 3,4).area())\n",
    "print(shapeFactory.CreateInstance('circle', 4).area())\n",
    "\n",
    "shapeFactory.RemoveKey('circle')\n",
    "print(shapeFactory.CreateInstance('circle', 4).area())"
   ]
  },
  {
   "cell_type": "code",
   "execution_count": null,
   "metadata": {},
   "outputs": [],
   "source": []
  }
 ],
 "metadata": {
  "kernelspec": {
   "display_name": "Python 3",
   "language": "python",
   "name": "python3"
  },
  "language_info": {
   "codemirror_mode": {
    "name": "ipython",
    "version": 3
   },
   "file_extension": ".py",
   "mimetype": "text/x-python",
   "name": "python",
   "nbconvert_exporter": "python",
   "pygments_lexer": "ipython3",
   "version": "3.7.3"
  }
 },
 "nbformat": 4,
 "nbformat_minor": 2
}
